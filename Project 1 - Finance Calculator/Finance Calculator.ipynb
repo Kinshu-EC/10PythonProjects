{
 "cells": [
  {
   "cell_type": "code",
   "execution_count": 3,
   "id": "66997b97",
   "metadata": {
    "scrolled": false
   },
   "outputs": [
    {
     "name": "stdout",
     "output_type": "stream",
     "text": [
      "Enter your monthly salary: 90000\n",
      "Enter your tax rate (%): 15\n",
      "Enter your currency: INR\n",
      "Enter monthly rent: 7500\n",
      "Enter money spent on food in a month: 1500\n",
      "Enter the total money of all the bills paid in a month: 5000\n",
      "Enter the money spent on entertainment in a month: 1000\n",
      "The finanace summary is as follows:\n",
      "\n",
      "Monthly income: INR 90,000.00\n",
      "Tax Rate: 15%\n",
      "Monthly tax: INR 13,500.00\n",
      "Monthly expenses: INR 15,000.00\n",
      "Monthly net income: INR 61,500.00\n",
      "\n",
      "Yearly salary: INR 1,080,000.00\n",
      "Yearly tax paid: INR 162,000.00\n",
      "Yearly expenses: INR 180,000.00\n",
      "Yearly net income: INR 738,000.00\n"
     ]
    }
   ],
   "source": [
    "def calculate_finances(monthly_income, tax_rate, currency, rent, food, bills, entertainment):\n",
    "    yearly_salary = monthly_income * 12\n",
    "    \n",
    "    monthly_tax = (monthly_income * tax_rate) / 100\n",
    "    yearly_tax = monthly_tax * 12\n",
    "    \n",
    "    monthly_expenses = rent + food + bills + entertainment\n",
    "    yearly_expenses = monthly_expenses * 12\n",
    "    \n",
    "    monthly_net_income = monthly_income - monthly_tax - monthly_expenses\n",
    "    yearly_net_income = yearly_salary - yearly_tax - yearly_expenses\n",
    "    \n",
    "    print('The finanace summary is as follows:')\n",
    "    print()\n",
    "    print(f'Monthly income: {currency} {monthly_income:,.2f}')\n",
    "    print(f'Tax Rate: {tax_rate:,.0f}%')\n",
    "    print(f'Monthly tax: {currency} {monthly_tax:,.2f}')\n",
    "    print(f'Monthly expenses: {currency} {monthly_expenses:,.2f}')\n",
    "    print(f'Monthly net income: {currency} {monthly_net_income:,.2f}')\n",
    "    print()\n",
    "    print(f'Yearly salary: {currency} {yearly_salary:,.2f}')\n",
    "    print(f'Yearly tax paid: {currency} {yearly_tax:,.2f}')\n",
    "    print(f'Yearly expenses: {currency} {yearly_expenses:,.2f}')\n",
    "    print(f'Yearly net income: {currency} {yearly_net_income:,.2f}')\n",
    "\n",
    "def main():\n",
    "    while True:\n",
    "        try:\n",
    "            monthly_income = float(input('Enter your monthly salary: '))\n",
    "            tax_rate = float(input('Enter your tax rate (%): '))\n",
    "            currency = input('Enter your currency: ')\n",
    "            rent = float(input('Enter monthly rent: '))\n",
    "            food = float(input('Enter money spent on food in a month: '))\n",
    "            bills = float(input('Enter the total money of all the bills paid in a month: '))\n",
    "            entertainment = float(input('Enter the money spent on entertainment in a month: '))\n",
    "            break\n",
    "        except ValueError:\n",
    "            print('Invalid Input!!!')\n",
    "    calculate_finances(monthly_income, tax_rate, currency, rent, food, bills, entertainment)\n",
    "\n",
    "if __name__ == '__main__':\n",
    "    main()"
   ]
  }
 ],
 "metadata": {
  "kernelspec": {
   "display_name": "Python 3 (ipykernel)",
   "language": "python",
   "name": "python3"
  },
  "language_info": {
   "codemirror_mode": {
    "name": "ipython",
    "version": 3
   },
   "file_extension": ".py",
   "mimetype": "text/x-python",
   "name": "python",
   "nbconvert_exporter": "python",
   "pygments_lexer": "ipython3",
   "version": "3.9.15"
  }
 },
 "nbformat": 4,
 "nbformat_minor": 5
}
