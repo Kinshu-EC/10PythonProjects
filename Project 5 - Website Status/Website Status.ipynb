{
 "cells": [
  {
   "cell_type": "code",
   "execution_count": 9,
   "id": "75ca7ac7",
   "metadata": {},
   "outputs": [
    {
     "name": "stdout",
     "output_type": "stream",
     "text": [
      "URL: https://www.indently.io\n",
      "Status Code: 200\n",
      "Content Type: text/html\n",
      "Server: Apache\n",
      "Response Time: 0.88 seconds\n"
     ]
    }
   ],
   "source": [
    "import requests\n",
    "from requests import Response, RequestException\n",
    "from requests.structures import CaseInsensitiveDict\n",
    "\n",
    "def check_status(url):\n",
    "    try:\n",
    "        response = requests.get(url)\n",
    "\n",
    "        #Information\n",
    "        status_code = response.status_code\n",
    "        headers = response.headers\n",
    "        content_type = headers.get('Content-Type', 'Unknown')\n",
    "        server = headers.get('Server', 'Unknown')\n",
    "        response_time = response.elapsed.total_seconds()\n",
    "\n",
    "        print(f'URL: {url}')\n",
    "        print(f'Status Code: {status_code}')\n",
    "        print(f'Content Type: {content_type}')\n",
    "        print(f'Server: {server}')\n",
    "        print(f'Response Time: {response_time:.2f} seconds')\n",
    "    except RequestException as e:\n",
    "        print(f'Error: {e}')\n",
    "\n",
    "def main():\n",
    "    url_to_check = 'https://www.indently.io'\n",
    "    check_status(url=url_to_check)\n",
    "\n",
    "if __name__ == '__main__':\n",
    "    main()"
   ]
  }
 ],
 "metadata": {
  "kernelspec": {
   "display_name": "Python 3 (ipykernel)",
   "language": "python",
   "name": "python3"
  },
  "language_info": {
   "codemirror_mode": {
    "name": "ipython",
    "version": 3
   },
   "file_extension": ".py",
   "mimetype": "text/x-python",
   "name": "python",
   "nbconvert_exporter": "python",
   "pygments_lexer": "ipython3",
   "version": "3.9.15"
  }
 },
 "nbformat": 4,
 "nbformat_minor": 5
}
