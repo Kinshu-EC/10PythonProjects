{
 "cells": [
  {
   "cell_type": "code",
   "execution_count": 5,
   "id": "a3e3fe33",
   "metadata": {},
   "outputs": [
    {
     "name": "stdout",
     "output_type": "stream",
     "text": [
      "Generated Password: Jw!&wiBN16i\n",
      "The password is weak.\n"
     ]
    }
   ],
   "source": [
    "import secrets\n",
    "import string\n",
    "\n",
    "class Password:\n",
    "    def __init__(self, length = 12, uppercase = True, symbols = True):\n",
    "        self.length = length\n",
    "        self.use_uppercase = uppercase\n",
    "        self.use_symbols = symbols\n",
    "        \n",
    "        # Get characters from string module\n",
    "        self.base_characters = string.ascii_lowercase + string.digits\n",
    "\n",
    "        if self.use_uppercase:\n",
    "            self.base_characters += string.ascii_uppercase\n",
    "        if self.use_symbols:\n",
    "            self.base_characters += string.punctuation\n",
    "    \n",
    "    def generate(self):\n",
    "        password = []\n",
    "        \n",
    "        for i in range(self.length):\n",
    "            password.append(secrets.choice(self.base_characters))\n",
    "            \n",
    "        return ''.join(password)\n",
    "\n",
    "    def check_strength(self, password):\n",
    "        if len(password) < 16:\n",
    "            return False\n",
    "        if not any(char.isupper() for char in password):\n",
    "            return False\n",
    "        if not any(char in string.punctuation for char in password):\n",
    "            return False\n",
    "        return True\n",
    "\n",
    "def main():\n",
    "    password = Password(length=11)\n",
    "    new_password = password.generate()\n",
    "    print(\"Generated Password:\", new_password)\n",
    "    \n",
    "    # Check password strength\n",
    "    if password.check_strength(new_password):\n",
    "        print(\"The password is strong.\")\n",
    "    else:\n",
    "        print(\"The password is weak.\")\n",
    "\n",
    "if __name__ == '__main__':\n",
    "    main()"
   ]
  }
 ],
 "metadata": {
  "kernelspec": {
   "display_name": "Python 3 (ipykernel)",
   "language": "python",
   "name": "python3"
  },
  "language_info": {
   "codemirror_mode": {
    "name": "ipython",
    "version": 3
   },
   "file_extension": ".py",
   "mimetype": "text/x-python",
   "name": "python",
   "nbconvert_exporter": "python",
   "pygments_lexer": "ipython3",
   "version": "3.9.15"
  }
 },
 "nbformat": 4,
 "nbformat_minor": 5
}
