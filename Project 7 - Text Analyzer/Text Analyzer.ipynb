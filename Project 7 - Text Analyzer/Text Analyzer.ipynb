{
 "cells": [
  {
   "cell_type": "code",
   "execution_count": 3,
   "id": "b78a40c9",
   "metadata": {},
   "outputs": [
    {
     "name": "stdout",
     "output_type": "stream",
     "text": [
      "Text File Analysis:\n",
      "\n",
      "The text file contains:\n",
      "- 39 characters (including spaces).\n",
      "- 32 characters (excluding spaces).\n",
      "- 7 spaces.\n",
      "- 8 words.\n",
      "\n",
      "Top 5 Most Common Words:\n",
      "- 'The' appears 1 times.\n",
      "- 'red' appears 1 times.\n",
      "- 'fox' appears 1 times.\n",
      "- 'jumped' appears 1 times.\n",
      "- 'over' appears 1 times.\n"
     ]
    }
   ],
   "source": [
    "from collections import Counter\n",
    "\n",
    "def open_file(path):\n",
    "    with open(path, 'r') as file:\n",
    "        text = file.read()\n",
    "        return text\n",
    "\n",
    "def analyze(text):\n",
    "    total_chars_incl_spaces = len(text)\n",
    "    total_chars_excl_spaces = len(text.replace(' ', ''))\n",
    "    total_spaces = text.count(' ')\n",
    "    total_words = len(text.split())\n",
    "    \n",
    "    # Create a list of words and count frequency\n",
    "    words = text.split()\n",
    "    word_counts = Counter(words)\n",
    "    common_words = word_counts.most_common(5)\n",
    "\n",
    "    result = {\n",
    "        'total_chars_incl_spaces': total_chars_incl_spaces,\n",
    "        'total_chars_excl_spaces': total_chars_excl_spaces,\n",
    "        'total_spaces': total_spaces,\n",
    "        'total_words': total_words,\n",
    "        'top_5_common_words': common_words\n",
    "    }\n",
    "    return result\n",
    "\n",
    "def main():\n",
    "    text = open_file('note.txt')\n",
    "    analysis = analyze(text)\n",
    "    \n",
    "    print(\"Text File Analysis:\")\n",
    "    print(f\"\\nThe text file contains:\")\n",
    "    print(f\"- {analysis['total_chars_incl_spaces']} characters (including spaces).\")\n",
    "    print(f\"- {analysis['total_chars_excl_spaces']} characters (excluding spaces).\")\n",
    "    print(f\"- {analysis['total_spaces']} spaces.\")\n",
    "    print(f\"- {analysis['total_words']} words.\")\n",
    "    \n",
    "    print(\"\\nTop 5 Most Common Words:\")\n",
    "    for word, count in analysis['top_5_common_words']:\n",
    "        print(f\"- '{word}' appears {count} times.\")\n",
    "    \n",
    "if __name__ == '__main__':\n",
    "    main()"
   ]
  }
 ],
 "metadata": {
  "kernelspec": {
   "display_name": "Python 3 (ipykernel)",
   "language": "python",
   "name": "python3"
  },
  "language_info": {
   "codemirror_mode": {
    "name": "ipython",
    "version": 3
   },
   "file_extension": ".py",
   "mimetype": "text/x-python",
   "name": "python",
   "nbconvert_exporter": "python",
   "pygments_lexer": "ipython3",
   "version": "3.9.15"
  }
 },
 "nbformat": 4,
 "nbformat_minor": 5
}
