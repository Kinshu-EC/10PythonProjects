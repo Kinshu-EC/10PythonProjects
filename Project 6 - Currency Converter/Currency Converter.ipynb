{
 "cells": [
  {
   "cell_type": "code",
   "execution_count": 2,
   "id": "81a200e7",
   "metadata": {
    "scrolled": true
   },
   "outputs": [
    {
     "name": "stdout",
     "output_type": "stream",
     "text": [
      "Invalid currency code. Available currencies are: AED, AFN, ALL, AMD, ANG, AOA, ARS, AUD, AWG, AZN, BAM, BBD, BDT, BGN, BHD, BIF, BMD, BND, BOB, BRL, BSD, BTC, BTN, BWP, BYN, BYR, BZD, CAD, CDF, CHF, CLF, CLP, CNY, COP, CRC, CUC, CUP, CVE, CZK, DJF, DKK, DOP, DZD, EGP, ERN, ETB, EUR, FJD, FKP, GBP, GEL, GGP, GHS, GIP, GMD, GNF, GTQ, GYD, HKD, HNL, HRK, HTG, HUF, IDR, ILS, IMP, INR, IQD, IRR, ISK, JEP, JMD, JOD, JPY, KES, KGS, KHR, KMF, KPW, KRW, KWD, KYD, KZT, LAK, LBP, LKR, LRD, LSL, LTL, LVL, LYD, MAD, MDL, MGA, MKD, MMK, MNT, MOP, MRO, MUR, MVR, MWK, MXN, MYR, MZN, NAD, NGN, NIO, NOK, NPR, NZD, OMR, PAB, PEN, PGK, PHP, PKR, PLN, PYG, QAR, RON, RSD, RUB, RWF, SAR, SBD, SCR, SDG, SEK, SGD, SHP, SLE, SLL, SOS, SRD, STD, SVC, SYP, SZL, THB, TJS, TMT, TND, TOP, TRY, TTD, TWD, TZS, UAH, UGX, USD, UYU, UZS, VEF, VES, VND, VUV, WST, XAF, XAG, XAU, XCD, XDR, XOF, XPF, YER, ZAR, ZMK, ZMW, ZWL\n"
     ]
    }
   ],
   "source": [
    "import json\n",
    "\n",
    "def load_rates(json_file):\n",
    "    with open(json_file, 'r') as file:\n",
    "        data = json.load(file)\n",
    "        return data.get(\"rates\", {})  # Extract rates directly\n",
    "\n",
    "def convert(amount, base, to, rates):\n",
    "    base = base.upper()\n",
    "    to = to.upper()\n",
    "    \n",
    "    base_rate = rates.get(base)\n",
    "    to_rate = rates.get(to)\n",
    "    \n",
    "    if base_rate is None or to_rate is None:\n",
    "        available_currencies = \", \".join(rates.keys())\n",
    "        raise ValueError(f\"Invalid currency code. Available currencies are: {available_currencies}\")\n",
    "\n",
    "    if base == 'EUR':\n",
    "        return amount * to_rate\n",
    "    else:\n",
    "        return amount * (to_rate / base_rate)\n",
    "\n",
    "def main():\n",
    "    rates = load_rates('rates.json')\n",
    "    try:\n",
    "        result = convert(amount=10, base='abc', to='eur', rates=rates)\n",
    "        print(result)\n",
    "    except ValueError as e:\n",
    "        print(e)\n",
    "\n",
    "if __name__ == '__main__':\n",
    "    main()"
   ]
  },
  {
   "cell_type": "code",
   "execution_count": 3,
   "id": "b3ab36f1",
   "metadata": {},
   "outputs": [
    {
     "name": "stdout",
     "output_type": "stream",
     "text": [
      "843.1999999999999\n"
     ]
    }
   ],
   "source": [
    "import requests\n",
    "\n",
    "def load_rates(base_currency='EUR'):\n",
    "    url = f'https://api.frankfurter.app/latest?base={base_currency}'\n",
    "    response = requests.get(url)\n",
    "    data = response.json()\n",
    "    return data['rates']\n",
    "\n",
    "def convert(amount, base, to):\n",
    "    rates = load_rates(base)\n",
    "    if to not in rates:\n",
    "        raise ValueError(f\"Currency '{to}' is not available.\")\n",
    "    return amount * rates[to]\n",
    "\n",
    "# Usage example\n",
    "print(convert(10, 'USD', 'INR'))"
   ]
  }
 ],
 "metadata": {
  "kernelspec": {
   "display_name": "Python 3 (ipykernel)",
   "language": "python",
   "name": "python3"
  },
  "language_info": {
   "codemirror_mode": {
    "name": "ipython",
    "version": 3
   },
   "file_extension": ".py",
   "mimetype": "text/x-python",
   "name": "python",
   "nbconvert_exporter": "python",
   "pygments_lexer": "ipython3",
   "version": "3.9.15"
  }
 },
 "nbformat": 4,
 "nbformat_minor": 5
}
