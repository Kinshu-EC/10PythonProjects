{
 "cells": [
  {
   "cell_type": "code",
   "execution_count": 7,
   "id": "9e1f7644",
   "metadata": {},
   "outputs": [
    {
     "name": "stdout",
     "output_type": "stream",
     "text": [
      "Do you want to convert from (1) English to Morse code or (2) Morse code to English? Enter 1 or 2: 2\n",
      "Enter Morse code to convert to English: .... .. -.-.-- / .. .----. -- / -.- .. -. ... .... ..- \n",
      "English:  HI! I'M KINSHU\n"
     ]
    }
   ],
   "source": [
    "import string\n",
    "\n",
    "# Morse code dictionaries\n",
    "morse_code_dict = {\n",
    "    'A': '.-', 'B': '-...', 'C': '-.-.', 'D': '-..', 'E': '.', 'F': '..-.', 'G': '--.', 'H': '....', 'I': '..', 'J': '.---',\n",
    "    'K': '-.-', 'L': '.-..', 'M': '--', 'N': '-.', 'O': '---', 'P': '.--.', 'Q': '--.-', 'R': '.-.', 'S': '...', 'T': '-',\n",
    "    'U': '..-', 'V': '...-', 'W': '.--', 'X': '-..-', 'Y': '-.--', 'Z': '--..',\n",
    "    '0': '-----', '1': '.----', '2': '..---', '3': '...--', '4': '....-', '5': '.....', '6': '-....', '7': '--...', \n",
    "    '8': '---..', '9': '----.', \n",
    "    ' ': '/',\n",
    "    '.': '.-.-.-', ',': '--..--', '?': '..--..', '\\'': '.----.', '!': '-.-.--', '/': '-..-.', '(': '-.--.', ')': '-.--.-',\n",
    "    '&': '.-...', ':': '---...', ';': '-.-.-.', '=': '-...-', '+': '.-.-.', '-': '-....-', '_': '..--.-', '\"': '.-..-.',\n",
    "    '$': '...-..-', '@': '.--.-.'\n",
    "}\n",
    "\n",
    "# Reverse dictionary for Morse to English\n",
    "morse_to_english_dict = {v: k for k, v in morse_code_dict.items()}\n",
    "\n",
    "def convert_to_morse(text):\n",
    "    \"\"\"Convert English text to Morse code.\"\"\"\n",
    "    text = text.upper()\n",
    "    return ' '.join(morse_code_dict.get(char, '') for char in text)\n",
    "\n",
    "def convert_from_morse(morse_code):\n",
    "    \"\"\"Convert Morse code to English text.\"\"\"\n",
    "    words = morse_code.split(' / ')  # Split by word separator \"/\"\n",
    "    translated_text = []\n",
    "\n",
    "    for word in words:\n",
    "        letters = word.split()  # Split each word into its Morse characters\n",
    "        translated_word = ''.join(morse_to_english_dict.get(letter, '') for letter in letters)\n",
    "        translated_text.append(translated_word)\n",
    "\n",
    "    return ' '.join(translated_text)\n",
    "\n",
    "def main():\n",
    "    # Ask the user what conversion they want\n",
    "    choice = input(\"Do you want to convert from (1) English to Morse code or (2) Morse code to English? Enter 1 or 2: \")\n",
    "\n",
    "    if choice == '1':\n",
    "        text = input(\"Enter text to convert to Morse code: \")\n",
    "        print(\"Morse Code: \", convert_to_morse(text))\n",
    "    elif choice == '2':\n",
    "        morse_code = input(\"Enter Morse code to convert to English: \")\n",
    "        print(\"English: \", convert_from_morse(morse_code))\n",
    "    else:\n",
    "        print(\"Invalid choice! Please enter 1 or 2.\")\n",
    "\n",
    "if __name__ == '__main__':\n",
    "    main()"
   ]
  }
 ],
 "metadata": {
  "kernelspec": {
   "display_name": "Python 3 (ipykernel)",
   "language": "python",
   "name": "python3"
  },
  "language_info": {
   "codemirror_mode": {
    "name": "ipython",
    "version": 3
   },
   "file_extension": ".py",
   "mimetype": "text/x-python",
   "name": "python",
   "nbconvert_exporter": "python",
   "pygments_lexer": "ipython3",
   "version": "3.9.15"
  }
 },
 "nbformat": 4,
 "nbformat_minor": 5
}
