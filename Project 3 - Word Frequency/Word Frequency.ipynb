{
 "cells": [
  {
   "cell_type": "code",
   "execution_count": 6,
   "id": "0f823b3e",
   "metadata": {},
   "outputs": [
    {
     "name": "stdout",
     "output_type": "stream",
     "text": [
      "Do you want to enter text manually or read from a file? (enter 'text' or 'file'): file\n",
      "Enter the path to the text file: C:\\Users\\Admin\\Desktop\\Ventra.txt\n",
      "com: 4\n",
      "dkinshu: 3\n",
      "ventra: 2\n",
      "gmail: 2\n",
      "1234: 2\n",
      "walmart: 2\n",
      "health: 1\n",
      "05: 1\n",
      "paid: 1\n",
      "to: 1\n",
      "read: 1\n",
      "email: 1\n",
      "gmal: 1\n",
      "ptre: 1\n"
     ]
    }
   ],
   "source": [
    "from collections import Counter\n",
    "import re\n",
    "\n",
    "def read_text_file(file_path):\n",
    "    \"\"\"Reads content from a text file and returns it as a string.\"\"\"\n",
    "    try:\n",
    "        with open(file_path, 'r', encoding='utf-8') as file:\n",
    "            text = file.read()\n",
    "        return text\n",
    "    except FileNotFoundError:\n",
    "        print(\"The file was not found. Please check the file path and try again.\")\n",
    "        return None\n",
    "\n",
    "def get_frequency(text):\n",
    "    lowered_text = text.lower()\n",
    "    words = re.findall(r'\\b\\w+\\b', lowered_text)\n",
    "    word_counts = Counter(words)\n",
    "    return word_counts.most_common()\n",
    "\n",
    "def main():\n",
    "    # Keep asking for valid input until the user enters 'file' or 'text'\n",
    "    while True:\n",
    "        choice = input(\"Do you want to enter text manually or read from a file? (enter 'text' or 'file'): \").strip().lower()\n",
    "        if choice in ('file', 'text'):\n",
    "            break  # Valid input; exit the loop\n",
    "        else:\n",
    "            print(\"Invalid input. Please enter 'text' or 'file'.\")\n",
    "\n",
    "    # Handle user's choice\n",
    "    if choice == 'file':\n",
    "        file_path = input(\"Enter the path to the text file: \").strip()\n",
    "        text = read_text_file(file_path)\n",
    "        if text is None:\n",
    "            return  # Exit if file reading failed\n",
    "    else:\n",
    "        text = input(\"Enter your text: \").strip()\n",
    "    \n",
    "    # Calculate and display word frequencies\n",
    "    word_frequencies = get_frequency(text)\n",
    "    for word, count in word_frequencies:\n",
    "        print(f'{word}: {count}')\n",
    "\n",
    "if __name__ == '__main__':\n",
    "    main()"
   ]
  }
 ],
 "metadata": {
  "kernelspec": {
   "display_name": "Python 3 (ipykernel)",
   "language": "python",
   "name": "python3"
  },
  "language_info": {
   "codemirror_mode": {
    "name": "ipython",
    "version": 3
   },
   "file_extension": ".py",
   "mimetype": "text/x-python",
   "name": "python",
   "nbconvert_exporter": "python",
   "pygments_lexer": "ipython3",
   "version": "3.9.15"
  }
 },
 "nbformat": 4,
 "nbformat_minor": 5
}
